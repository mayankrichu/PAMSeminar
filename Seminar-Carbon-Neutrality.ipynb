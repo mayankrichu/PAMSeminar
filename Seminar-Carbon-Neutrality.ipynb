{
 "cells": [
  {
   "cell_type": "code",
   "execution_count": 74,
   "outputs": [],
   "source": [
    "import matplotlib.ticker as mticker"
   ],
   "metadata": {
    "collapsed": false
   }
  },
  {
   "cell_type": "code",
   "execution_count": 75,
   "outputs": [],
   "source": [
    "    #parameters\n",
    "years = [year for year in range(2000, 2051)]\n",
    "population = 83200000\n",
    "rate_of_population_increase = 0.1\n",
    "\n",
    "#energy and their co2 emission per hour/per day or per year\n",
    "renewable_energy_solar = 1234\n",
    "renewable_energy_wind = 1234\n",
    "renewable_energy_hydropower = 1234\n",
    "renewable_energy_biomass = 1234\n",
    "non_renewable_energy_Coal = 1234\n",
    "non_renewable_energy_Gasoline = 1234\n",
    "non_renewable_energy_nuclear = 1234\n",
    "non_renewable_energy_lignite = 1234\n",
    "\n",
    "#co2 emission by industry, household, Waste and Waste Water, transport\n",
    "industry = []\n",
    "low_income_households = []\n",
    "medium_income_households = []\n",
    "high_income_households = []\n",
    "transports = []\n",
    "meat_industry = []\n",
    "diary_farming = []\n",
    "agriculture_farming = []\n",
    "transport_air_conventional = []\n",
    "transport_air_AI  = []\n",
    "transport_road_conventional = []\n",
    "transport_road_electric = []\n",
    "transport_water_conventional = []\n",
    "transport_water_ai = []\n",
    "\n",
    "#co2 offset\n",
    "afforestation_trees_planted = 1234\n",
    "innovation_rate = 3\n",
    "carbon_tax = 1234\n"
   ],
   "metadata": {
    "collapsed": false
   }
  },
  {
   "cell_type": "code",
   "execution_count": 76,
   "outputs": [],
   "source": [
    "\n",
    "import matplotlib.pyplot as plt\n",
    "\n",
    "years = range(2001, 2050)\n",
    "emissions_industry = [200, 195, 190, 180, 170, 165, 160, 155, 150, 145, 140, 135, 130, 125, 120, 115, 110, 105, 100, 95, 90, 85, 80, 75, 70, 65, 60, 55, 50, 45, 40, 35, 30, 25, 20, 15, 10, 5, 0, 0, 0, 0, 0, 0, 0, 0, 0, 0, 0]\n",
    "#offsets_industry = [0, 0, 0, 0, 0, 0, 0, 0, 0, 0, 0, 0, 0, 0, 0, 0, 0, 0, 0, 0, 0, 0, 0, 0, 0, 0, 0, 0, 0, 0, 0, 0, 0, 0, 0, 0, 0, 0, 0, 0, 0, 0, 0, 0, 0, 0, 0]\n",
    "\n",
    "emissions_household = [50, 48, 46, 45, 44, 42, 40, 38, 36, 34, 32, 30, 28, 26, 24, 22, 20, 18, 16, 14, 12, 10, 9, 8, 7, 6, 5, 4, 3, 2, 1, 0, 0, 0, 0, 0, 0, 0, 0, 0, 0, 0, 0, 0, 0, 0,0,0,0]\n",
    "#offsets_household = [0, 0, 0, 0, 0, 0, 0, 0, 0, 0, 0, 0, 0, 0, 0, 0, 0, 0, 0, 0, 0, 0, 0, 0, 0, 0, 0, 0, 0, 0, 0, 0, 0, 0, 0, 0, 0, 0, 0, 0, 0, 0, 0, 0, 0, 0, 0,0,0]\n",
    "\n",
    "emissions_agriculture = [100, 98, 96, 94, 92, 90, 88, 86, 84, 82, 80, 78, 76, 74, 72, 70, 68, 66, 64, 62, 60, 58, 56, 54, 52, 50, 48, 46, 44, 42, 40, 38, 36, 34, 32, 30, 28, 26, 24, 22, 20, 18, 16, 14, 12, 10,10,10,10]\n",
    "\n",
    "#offsets_agriculture = [0, 0, 0, 0, 0, 0, 0, 0, 0, 0, 0, 0, 0, 0, 0, 0, 0, 0, 0, 0, 0, 0, 0, 0, 0, 0, 0, 0, 0, 0, 0, 0, 0, 0, 0, 0, 0, 0, 0, 0, 0, 0, 0, 0, 0, 0, 0, 0,0]\n",
    "\n",
    "emissions_transport = [150, 145, 140, 135, 130, 125, 120, 115, 110, 105, 100, 95, 90, 85, 80, 75, 70, 65, 60, 55, 50, 45, 40, 35, 30, 25, 20, 15, 10, 5, 0, 0, 0, 0, 0, 0, 0, 0, 0, 0, 0, 0, 0, 0, 0, 0, 0, 0,0]\n",
    "#offsets_transport = [0, 0, 0, 0, 0, 0, 0, 0, 0, 0, 0, 0, 0, 0, 0, 0, 0, 0, 0, 0, 0, 0, 0, 0, 0, 0, 0, 0, 0, 0, 0, 0, 0, 0, 0, 0, 0, 0, 0, 0, 0, 0, 0, 0, 0, 0, 0, 0,0]\n",
    "\n",
    "print(len(emissions_industry), len(emissions_industry), len(emissions_household), len(offsets_household), len(emissions_agriculture), len(offsets_agriculture), len(emissions_transport), len(offsets_transport), len(years))\n",
    "plt.figure(figsize=(10, 8))\n",
    "plt.plot(years,emissions_industry, label='Industry Emissions')\n",
    "plt.plot(years, emissions_industry, label='Industry Carbon Offset')\n",
    "plt.plot(years, emissions_household, label='Household Emissions')\n",
    "#plt.plot(years, offsets_household , label='Household Carbon Offset')\n",
    "plt.plot(years, emissions_agriculture, label='Agriculture Emissions')\n",
    "#plt.plot(years, offsets_agriculture, label='Agriculture Carbon Offset')\n",
    "plt.plot(years, emissions_transport, label='Transport Emissions')\n",
    "#plt.plot(years, offsets_transport, label='Transport Carbon Offset')\n",
    "\n",
    "plt.xlabel('Carbon Emissions / Carbon Offset')\n",
    "plt.ylabel('Year')\n",
    "plt.title('Carbon Emissions and Carbon Offset by Sector')\n",
    "plt.legend()\n",
    "plt.grid(True)\n",
    "plt.show()\n"
   ],
   "metadata": {
    "collapsed": false
   }
  },
  {
   "cell_type": "code",
   "execution_count": 77,
   "outputs": [],
   "source": [
    "import pandas as pd\n",
    "import openpyxl\n",
    "\n",
    "data = pd.read_excel('/Volumes/Mayank HDD/jiec13045-sup-0003-suppmat.xlsx', sheet_name=3)\n",
    "\n",
    "\n",
    "# Add a new column based on income categories\n",
    "combined_category = []\n",
    "for x,y in enumerate(data['Household Income Group (Euro/month)']):\n",
    "    if y in ['Below 900', '900-1,300', '1,300-1,500']:\n",
    "        combined_category.append('Low Income')\n",
    "    elif y in ['1,500-1,700', '1,700-2,000', '2,000-2,600', '2,600-3,600', '3,600-5,000', '5,000-7,500']:\n",
    "        combined_category.append('Medium Income')\n",
    "    elif y in ['7,500-10,000', '10,000-18,000']:\n",
    "        combined_category.append('High Income')\n",
    "    else:\n",
    "        combined_category.append(data['Household Income Group (Euro/month)'][x])\n",
    "\n",
    "\n",
    "\n",
    "data['CombinedCategory'] = combined_category\n",
    "data\n"
   ],
   "metadata": {
    "collapsed": false
   }
  },
  {
   "cell_type": "code",
   "execution_count": null,
   "outputs": [],
   "source": [
    "import matplotlib.pyplot as plt\n",
    "\n",
    "plt.figure(figsize=(15, 6))\n",
    "cross_tab = pd.crosstab(data['CombinedCategory'],data['Product Groups'], values=data['CF_Mean'], aggfunc='sum')\n",
    "\n",
    "fig, ax = plt.subplots(figsize=(20, 8))\n",
    "cross_tab.plot.bar(ax=ax)\n",
    "\n",
    "# Adding labels and title\n",
    "ax.set_xlabel('Combined Category')\n",
    "ax.set_ylabel('CF_Mean')\n",
    "ax.set_title('Grouped Bar Chart')\n",
    "\n",
    "# Display the chart\n",
    "plt.show()"
   ],
   "metadata": {
    "collapsed": false
   }
  },
  {
   "cell_type": "code",
   "execution_count": null,
   "outputs": [],
   "source": [
    "#get the total Co2 emission\n",
    "mean_values = data.groupby(['CombinedCategory','Product Groups'])['CF_Mean'].mean()\n",
    "\n",
    "#convert the categorized value to dict\n",
    "mean_values = mean_values.to_frame()\n",
    "total_co2_emission_by_category = mean_values.groupby('CombinedCategory')['CF_Mean'].sum()\n",
    "total_co2_emission_by_category = round(total_co2_emission_by_category/1000)\n",
    "total_co2_emission_by_category"
   ],
   "metadata": {
    "collapsed": false
   }
  },
  {
   "cell_type": "code",
   "execution_count": null,
   "outputs": [],
   "source": [
    "total_co2_emission_All = total_co2_emission_by_category['High Income'] +total_co2_emission_by_category['Low Income'] + total_co2_emission_by_category['Medium Income']\n",
    "total_co2_emission_All"
   ],
   "metadata": {
    "collapsed": false
   }
  },
  {
   "cell_type": "code",
   "execution_count": null,
   "outputs": [],
   "source": [
    "low_income_household_number = 11680000\n",
    "medium_income_household_number =  24320000\n",
    "high_income_household_number = 4000000\n",
    "\n",
    "low_income_household_number_percentage = 30\n",
    "medium_income_household_number_percentage = 60\n",
    "high_income_household_number_percentage = 10\n"
   ],
   "metadata": {
    "collapsed": false
   }
  },
  {
   "cell_type": "code",
   "execution_count": null,
   "outputs": [],
   "source": [
    "production_rate = 0.2\n"
   ],
   "metadata": {
    "collapsed": false
   }
  },
  {
   "cell_type": "code",
   "execution_count": null,
   "outputs": [],
   "source": [
    "population_germany_file = \"/Volumes/Mayank HDD/PAM/population.csv\"\n",
    "population_list = []\n",
    "\n",
    "def get_years(date):\n",
    "    year = int(date.split('.')[2])\n",
    "\n",
    "    return year\n",
    "\n",
    "df = pd.read_csv(population_germany_file, delimiter=\";\")\n",
    "\n",
    "df['Date'] = df['Date'].apply(get_years)\n",
    "df = df[40:]\n",
    "plt.figure(figsize=(15, 6))\n",
    "\n",
    "\n",
    "# Plotting the lines\n",
    "plt.plot(df['Date'], df['Population'], label='low income')\n",
    "\n",
    "plt.ylim(50000000, 100000000)\n",
    "\n",
    "# Create a formatter to display y-axis labels in hundreds with three digits\n",
    "formatter = mticker.StrMethodFormatter(\"{x:,.0f}\")\n",
    "\n",
    "# Set the formatter for the y-axis tick labels\n",
    "plt.gca().yaxis.set_major_formatter(formatter)\n",
    "\n",
    "plt.xlabel('Year')\n",
    "plt.ylabel('Population')\n",
    "\n",
    "\n",
    "# Displaying the graph\n",
    "plt.show()"
   ],
   "metadata": {
    "collapsed": false
   }
  },
  {
   "cell_type": "code",
   "execution_count": null,
   "outputs": [],
   "source": [
    "co2_emission_low_income = [(0.3*x*6)/1000000 for x in df['Population']]\n",
    "co2_emission_high_income = [(0.1*x*14)/1000000 for x in df['Population']]\n",
    "co2_emission_medium_income = [(0.6*x*9)/1000000 for x in df['Population']]\n",
    "co2_emission_total_current = [x + y  + z for x, y, z in zip(co2_emission_low_income, co2_emission_high_income, co2_emission_medium_income )]\n",
    "\n",
    "plt.figure(figsize=(15, 6))\n",
    "\n",
    "# Plotting the lines\n",
    "plt.plot(df['Date'], co2_emission_low_income, label='low income')\n",
    "plt.plot(df['Date'], co2_emission_high_income, label='high income')\n",
    "plt.plot(df['Date'], co2_emission_medium_income, label='medium income')\n",
    "plt.plot(df['Date'], co2_emission_total_current, label='total')\n",
    "\n",
    "# Create a formatter to display y-axis labels in hundreds with three digits\n",
    "formatter = mticker.StrMethodFormatter(\"{x:,.0f}\")\n",
    "\n",
    "# Set the formatter for the y-axis tick labels\n",
    "plt.gca().yaxis.set_major_formatter(formatter)\n",
    "# Adding labels and legend\n",
    "plt.xlabel('Year')\n",
    "plt.ylabel('Co2 Emission')\n",
    "plt.legend()\n",
    "\n",
    "# Displaying the graph\n",
    "plt.show()\n"
   ],
   "metadata": {
    "collapsed": false
   }
  },
  {
   "cell_type": "code",
   "execution_count": null,
   "outputs": [],
   "source": [
    "#parameters\n",
    "current_population = df[-1:]['Population']\n",
    "current_population = current_population.iloc[0]\n",
    "population_growth_rate = 0.2\n",
    "\n",
    "#### amount of co2 emitted by household (in tonnes)\n",
    "low_income_households = 9.1\n",
    "medium_income_households = 10\n",
    "high_income_households = 14.8\n",
    "\n"
   ],
   "metadata": {
    "collapsed": false
   }
  },
  {
   "cell_type": "code",
   "execution_count": null,
   "outputs": [],
   "source": [
    "low_income_household_number_prediction = []\n",
    "high_income_household_number_prediction = []\n",
    "medium_income_household_number_prediction = []\n",
    "\n",
    "for year in range(2023, 2050):\n",
    "    current_population += ((population_growth_rate/100)*current_population)\n",
    "    low_income_household_number_prediction.append(round((low_income_household_number_percentage/100) * current_population))\n",
    "    high_income_household_number_prediction.append(round((high_income_household_number_percentage/100) * current_population))\n",
    "    medium_income_household_number_prediction.append(round((medium_income_household_number_percentage/100) * current_population))\n",
    "\n",
    "co2_emission_low_income = [(low_income_households*x)/1000 for x in low_income_household_number_prediction]\n",
    "\n",
    "co2_emission_high_income = [(high_income_households*x)/1000 for x in high_income_household_number_prediction]\n",
    "\n",
    "co2_emission_medium_income = [(medium_income_households*x)/1000 for x in medium_income_household_number_prediction]\n",
    "co2_emission_year = [x for x in range(23, 50)]\n",
    "co2_emission_total = [x + y  + z for x, y, z in zip(co2_emission_low_income, co2_emission_high_income, co2_emission_medium_income )]\n",
    "\n",
    "\n",
    "plt.figure(figsize=(15, 6))\n",
    "\n",
    "# Plotting the lines\n",
    "plt.plot(co2_emission_year, co2_emission_low_income, label='low income')\n",
    "plt.plot(co2_emission_year, co2_emission_high_income, label='high income')\n",
    "plt.plot(co2_emission_year, co2_emission_medium_income, label='medium income')\n",
    "plt.plot(co2_emission_year, co2_emission_total, label='total')\n",
    "\n",
    "# Create a formatter to display y-axis labels in hundreds with three digits\n",
    "formatter = mticker.StrMethodFormatter(\"{x:,.0f}\")\n",
    "\n",
    "# Set the formatter for the y-axis tick labels\n",
    "plt.gca().yaxis.set_major_formatter(formatter)\n",
    "# Adding labels and legend\n",
    "plt.xlabel('Year')\n",
    "plt.ylabel('Co2 Emission')\n",
    "plt.legend()\n",
    "\n",
    "# Displaying the graph\n",
    "plt.show()\n",
    "\n"
   ],
   "metadata": {
    "collapsed": false
   }
  },
  {
   "cell_type": "code",
   "execution_count": null,
   "outputs": [],
   "source": [
    "import numpy as np\n",
    "\n",
    "\n",
    "# Creating the stacked bar chart\n",
    "plt.figure(figsize=(15, 6))\n",
    "\n",
    "# Plotting the bars\n",
    "plt.bar(co2_emission_year, co2_emission_low_income, label='Low Income')\n",
    "plt.bar(co2_emission_year, co2_emission_medium_income, label='Medium Income', bottom=co2_emission_low_income)\n",
    "plt.bar(co2_emission_year, co2_emission_high_income, label='High Income', bottom=np.array(co2_emission_low_income) + np.array(co2_emission_medium_income))\n",
    "\n",
    "# Create a formatter to display y-axis labels in hundreds with three digits\n",
    "formatter = mticker.StrMethodFormatter(\"{x:,.0f}\")\n",
    "\n",
    "# Set the formatter for the y-axis tick labels\n",
    "plt.gca().yaxis.set_major_formatter(formatter)\n",
    "\n",
    "# Adding labels and legend\n",
    "plt.xlabel('Year')\n",
    "plt.ylabel('CO2 Emission in metric tone')\n",
    "plt.legend()\n",
    "\n",
    "# Displaying the graph\n",
    "plt.show()"
   ],
   "metadata": {
    "collapsed": false
   }
  },
  {
   "cell_type": "code",
   "execution_count": null,
   "outputs": [],
   "source": [
    "germany_data = pd.read_excel('/Users/mayank/Documents/co2germany.xlsx', sheet_name='Sheet1')"
   ],
   "metadata": {
    "collapsed": false
   }
  },
  {
   "cell_type": "code",
   "execution_count": null,
   "outputs": [],
   "source": [
    "germany_data = germany_data[0:33]\n",
    "germany_data"
   ],
   "metadata": {
    "collapsed": false
   }
  },
  {
   "cell_type": "code",
   "execution_count": null,
   "outputs": [],
   "source": [
    "import matplotlib.pyplot as plt\n",
    "\n",
    "plt.figure(figsize=(10, 6))\n",
    "# Plotting the lines\n",
    "plt.plot(germany_data['Year'], germany_data['Energy Industry'], label='Energy Industry')\n",
    "plt.plot(germany_data['Year'], germany_data['Transport'], label='Transport')\n",
    "plt.plot(germany_data['Year'], germany_data['Buildings'], label='Buildings')\n",
    "plt.plot(germany_data['Year'], germany_data['Industry'], label='Industry')\n",
    "plt.plot(germany_data['Year'], germany_data['Agriculture'], label='Agriculture')\n",
    "plt.plot(germany_data['Year'], germany_data['Waste and Waste Water'], label='Waste and Waste Water')\n",
    "plt.plot(germany_data['Year'], germany_data['GHG total'], label='GHG Total')\n",
    "\n",
    "\n",
    "# Adding labels and legend\n",
    "plt.xlabel('Year')\n",
    "plt.ylabel('Co2 Emission')\n",
    "plt.legend()\n",
    "\n",
    "plt.show()"
   ],
   "metadata": {
    "collapsed": false
   }
  },
  {
   "cell_type": "code",
   "execution_count": null,
   "outputs": [],
   "source": [
    "# current situation 50 percent fossil fuels #50 percent doesn't produce electricty\n",
    "germany_data[['Year', 'Energy Industry']]\n",
    "target_year = 2050\n",
    "current_year = 2022\n",
    "currrent_year_co2_emission = germany_data[germany_data['Year'] == 2022]['Energy Industry'].values\n",
    "annual_reduction_rate = -4\n",
    "\n",
    "total_number_years_needed = target_year - current_year\n",
    "\n",
    "\n",
    "year_df = []\n",
    "future_data_energy = [currrent_year_co2_emission]\n",
    "for year in range(1, total_number_years_needed+1):\n",
    "    currrent_year_co2_emission = currrent_year_co2_emission + (currrent_year_co2_emission * (annual_reduction_rate/100))\n",
    "    year_df.append(current_year+year)\n",
    "    future_data_energy.append(int(currrent_year_co2_emission))\n",
    "print(len(year_df),len(future_data_energy))\n",
    "future_data_energy = pd.DataFrame({'Energy Industry' : future_data_energy[1:], 'Year':year_df}  )\n",
    "future_data_energy\n",
    "\n",
    "total_data_energy = pd.concat([germany_data[['Year', 'Energy Industry']], future_data_energy], ignore_index=True)\n",
    "print(total_data_energy[30:])"
   ],
   "metadata": {
    "collapsed": false
   }
  },
  {
   "cell_type": "code",
   "execution_count": null,
   "outputs": [],
   "source": [
    "# transport\n",
    "germany_data[['Year', 'Transport']]\n",
    "target_year = 2050\n",
    "current_year = 2022\n",
    "currrent_year_co2_emission = germany_data[germany_data['Year'] == 2022]['Transport'].values\n",
    "annual_reduction_rate = -5\n",
    "\n",
    "total_number_years_needed = target_year - current_year\n",
    "\n",
    "\n",
    "year_df = []\n",
    "future_data_transport = [currrent_year_co2_emission]\n",
    "for year in range(1, total_number_years_needed+1):\n",
    "    currrent_year_co2_emission = currrent_year_co2_emission + (currrent_year_co2_emission * (annual_reduction_rate/100))\n",
    "    year_df.append(current_year+year)\n",
    "    future_data_transport.append(int(currrent_year_co2_emission))\n",
    "print(len(year_df),len(future_data_transport))\n",
    "future_data_transport = pd.DataFrame({'Transport' : future_data_transport[1:], 'Year':year_df}  )\n",
    "\n",
    "total_data_transport = pd.concat([germany_data[['Year', 'Transport']], future_data_transport], ignore_index=True)\n",
    "total_data_transport"
   ],
   "metadata": {
    "collapsed": false
   }
  },
  {
   "cell_type": "code",
   "execution_count": null,
   "outputs": [],
   "source": [
    "# buildings\n",
    "germany_data[['Year', 'Buildings']]\n",
    "target_year = 2050\n",
    "current_year = 2022\n",
    "currrent_year_co2_emission = germany_data[germany_data['Year'] == 2022]['Buildings'].values\n",
    "annual_reduction_rate = -5\n",
    "\n",
    "total_number_years_needed = target_year - current_year\n",
    "\n",
    "\n",
    "year_df = []\n",
    "future_data_buildings = [currrent_year_co2_emission]\n",
    "for year in range(1, total_number_years_needed+1):\n",
    "    currrent_year_co2_emission = currrent_year_co2_emission + (currrent_year_co2_emission * (annual_reduction_rate/100))\n",
    "    year_df.append(current_year+year)\n",
    "    future_data_buildings.append(int(currrent_year_co2_emission))\n",
    "print(len(year_df),len(future_data_buildings))\n",
    "future_data_buildings = pd.DataFrame({'Buildings' : future_data_buildings[1:], 'Year':year_df}  )\n",
    "\n",
    "total_data_buildings = pd.concat([germany_data[['Year', 'Buildings']], future_data_buildings], ignore_index=True)\n",
    "total_data_buildings"
   ],
   "metadata": {
    "collapsed": false
   }
  },
  {
   "cell_type": "code",
   "execution_count": null,
   "outputs": [],
   "source": [
    "# industry\n",
    "germany_data[['Year', 'Industry']]\n",
    "target_year = 2050\n",
    "current_year = 2022\n",
    "currrent_year_co2_emission = germany_data[germany_data['Year'] == 2022]['Industry'].values\n",
    "annual_reduction_rate = -2\n",
    "\n",
    "total_number_years_needed = target_year - current_year\n",
    "\n",
    "\n",
    "year_df = []\n",
    "future_data_industry = [currrent_year_co2_emission]\n",
    "for year in range(1, total_number_years_needed+1):\n",
    "    currrent_year_co2_emission = currrent_year_co2_emission + (currrent_year_co2_emission * (annual_reduction_rate/100))\n",
    "    year_df.append(current_year+year)\n",
    "    future_data_industry.append(int(currrent_year_co2_emission))\n",
    "print(len(year_df),len(future_data_industry))\n",
    "future_data_industry = pd.DataFrame({'Industry' : future_data_industry[1:], 'Year':year_df}  )\n",
    "\n",
    "total_data_industry = pd.concat([germany_data[['Year', 'Industry']], future_data_industry], ignore_index=True)\n",
    "total_data_industry"
   ],
   "metadata": {
    "collapsed": false
   }
  },
  {
   "cell_type": "code",
   "execution_count": null,
   "outputs": [],
   "source": [
    "# Agriculture\n",
    "germany_data[['Year', 'Agriculture']]\n",
    "target_year = 2050\n",
    "current_year = 2022\n",
    "currrent_year_co2_emission = germany_data[germany_data['Year'] == 2022]['Agriculture'].values\n",
    "annual_reduction_rate = -2\n",
    "\n",
    "total_number_years_needed = target_year - current_year\n",
    "\n",
    "year_df = []\n",
    "future_data_agriculture = [currrent_year_co2_emission]\n",
    "for year in range(1, total_number_years_needed+1):\n",
    "    currrent_year_co2_emission = currrent_year_co2_emission + (currrent_year_co2_emission * (annual_reduction_rate/100))\n",
    "    year_df.append(current_year+year)\n",
    "    future_data_agriculture.append(int(currrent_year_co2_emission))\n",
    "print(len(year_df),len(future_data_agriculture))\n",
    "future_data_agriculture = pd.DataFrame({'Agriculture': future_data_agriculture[1:], 'Year':year_df}  )\n",
    "\n",
    "total_data_agriculture = pd.concat([germany_data[['Year', 'Agriculture']], future_data_agriculture], ignore_index=True)\n",
    "total_data_agriculture"
   ],
   "metadata": {
    "collapsed": false
   }
  },
  {
   "cell_type": "code",
   "execution_count": null,
   "outputs": [],
   "source": [
    "# Waste and Waste Water\n",
    "germany_data[['Year', 'Waste and Waste Water']]\n",
    "target_year = 2050\n",
    "current_year = 2022\n",
    "currrent_year_co2_emission = germany_data[germany_data['Year'] == 2022]['Waste and Waste Water'].values\n",
    "annual_reduction_rate = -1\n",
    "\n",
    "total_number_years_needed = target_year - current_year\n",
    "\n",
    "year_df = []\n",
    "future_data_WW = [currrent_year_co2_emission]\n",
    "for year in range(1, total_number_years_needed+1):\n",
    "    currrent_year_co2_emission = currrent_year_co2_emission + (currrent_year_co2_emission * (annual_reduction_rate/100))\n",
    "    year_df.append(current_year+year)\n",
    "    future_data_WW.append(int(currrent_year_co2_emission))\n",
    "print(len(year_df),len(future_data_WW))\n",
    "future_data_WW = pd.DataFrame({'Waste and Waste Water' : future_data_WW[1:], 'Year':year_df}  )\n",
    "\n",
    "total_data_WW = pd.concat([germany_data[['Year', 'Waste and Waste Water']], future_data_WW], ignore_index=True)\n",
    "total_data_WW\n"
   ],
   "metadata": {
    "collapsed": false
   }
  },
  {
   "cell_type": "code",
   "execution_count": null,
   "outputs": [],
   "source": [
    "df_total_final = pd.concat([total_data_WW, total_data_agriculture, total_data_buildings, total_data_transport, total_data_industry, total_data_energy], axis=1)\n",
    "df_total_final['GHG total'] = df_total_final['Waste and Waste Water'] + df_total_final['Agriculture']+df_total_final['Energy Industry'] + df_total_final['Transport'] + df_total_final['Buildings']\n",
    "df_total_final = df_total_final.loc[:, ~df_total_final.columns.duplicated()]\n",
    "\n",
    "df_total_final"
   ],
   "metadata": {
    "collapsed": false
   }
  },
  {
   "cell_type": "code",
   "execution_count": null,
   "outputs": [],
   "source": [
    "import matplotlib.pyplot as plt\n",
    "\n",
    "plt.figure(figsize=(10, 6))\n",
    "# Plotting the lines\n",
    "plt.plot(df_total_final['Year'], df_total_final['Energy Industry'], label='Energy Industry')\n",
    "plt.plot(df_total_final['Year'], df_total_final['Transport'], label='Transport')\n",
    "plt.plot(df_total_final['Year'], df_total_final['Buildings'], label='Buildings')\n",
    "plt.plot(df_total_final['Year'], df_total_final['Industry'], label='Industry')\n",
    "plt.plot(df_total_final['Year'], df_total_final['Agriculture'], label='Agriculture')\n",
    "plt.plot(df_total_final['Year'], df_total_final['Waste and Waste Water'], label='Waste and Waste Water')\n",
    "plt.plot(df_total_final['Year'], df_total_final['GHG total'], label='GHG Total')\n",
    "\n",
    "\n",
    "# Adding labels and legend\n",
    "plt.xlabel('Year')\n",
    "plt.ylabel('Co2 Emission')\n",
    "plt.legend()\n",
    "\n",
    "plt.show()"
   ],
   "metadata": {
    "collapsed": false
   }
  },
  {
   "cell_type": "code",
   "execution_count": null,
   "outputs": [],
   "source": [],
   "metadata": {
    "collapsed": false
   }
  },
  {
   "cell_type": "code",
   "execution_count": null,
   "outputs": [],
   "source": [
    "import matplotlib.pyplot as plt\n",
    "\n",
    "plt.figure(figsize=(10, 6))\n",
    "# Plotting the lines\n",
    "print(len(germany_data['GHG total']),  len(co2_emission_total))\n",
    "\n",
    "plt.plot(germany_data['Year'], germany_data['GHG total'], label='GHG Total')\n",
    "plt.plot(df['Date'], co2_emission_total_current, label='Household')\n",
    "\n",
    "\n",
    "# Adding labels and legend\n",
    "plt.xlabel('Year')\n",
    "plt.ylabel('Co2 Emission')\n",
    "plt.legend()\n",
    "\n",
    "plt.show()"
   ],
   "metadata": {
    "collapsed": false
   }
  },
  {
   "cell_type": "code",
   "execution_count": null,
   "outputs": [],
   "source": [
    "forest_area = 11.4 #million hectares https://www.deutschland.de/en/topic/environment/how-large-are-germanys-forests-facts-and-figures#:~:text=How%20much%20forest%20is%20there,with%20over%2090%20billion%20trees.\n",
    "per_hectare_carbon_absorbed = 12 #tonnes per year https://www.researchgate.net/publication/329074041_Global_carbon_dioxide_removal_rates_from_forest_landscape_restoration_activities\n",
    "rate_afforestration = 5/100  # https://rainforests.mongabay.com/deforestation/forest-information-archive/Germany.htm#:~:text=31.7%25%20%E2%80%94or%20about%2011%2C076%2C000%20hectares,annual%20reforestation%20rate%20of%200.31%25.\n",
    "\n",
    "forest_area_2050 = []\n",
    "\n",
    "# from year 2023 - 2050\n",
    "for i in range(2023, 2050):\n",
    "    forest_area += forest_area * (rate_afforestration)\n",
    "    forest_area_2050.append(forest_area)\n",
    "\n",
    "total_carbon_absorbed = [x * per_hectare_carbon_absorbed for x in forest_area_2050]\n",
    "total_carbon_absorbed"
   ],
   "metadata": {
    "collapsed": false
   }
  },
  {
   "cell_type": "code",
   "execution_count": null,
   "outputs": [],
   "source": [
    "forest_area = 11.4 #million hectares https://www.deutschland.de/en/topic/environment/how-large-are-germanys-forests-facts-and-figures#:~:text=How%20much%20forest%20is%20there,with%20over%2090%20billion%20trees.\n",
    "per_hectare_carbon_absorbed = 12 #tonnes per year https://www.researchgate.net/publication/329074041_Global_carbon_dioxide_removal_rates_from_forest_landscape_restoration_activities\n",
    "rate_afforestration = 0.31  # https://rainforests.mongabay.com/deforestation/forest-information-archive/Germany.htm#:~:text=31.7%25%20%E2%80%94or%20about%2011%2C076%2C000%20hectares,annual%20reforestation%20rate%20of%200.31%25.\n",
    "forest_area_2050 = []\n",
    "\n",
    "# from year 1990 - 2023\n",
    "for i in range(2023, 1990, -1):\n",
    "    forest_area -= forest_area * (0.0031)\n",
    "    forest_area_2050.append(forest_area)\n",
    "\n",
    "total_carbon_absorbed = [x * per_hectare_carbon_absorbed for x in forest_area_2050]\n",
    "total_carbon_absorbed = total_carbon_absorbed[::-1]"
   ],
   "metadata": {
    "collapsed": false
   }
  },
  {
   "cell_type": "code",
   "execution_count": null,
   "outputs": [],
   "source": [
    "import matplotlib.pyplot as plt\n",
    "\n",
    "plt.figure(figsize=(10, 6))\n",
    "# Plotting the lines\n",
    "plt.ylim(0, 2000)\n",
    "plt.plot(germany_data['Year'], total_carbon_absorbed, label='absorbed Carbon through Forest')\n",
    "plt.plot(germany_data['Year'], germany_data['GHG total'], label='GHG Total')\n",
    "\n",
    "# Adding labels and legend\n",
    "plt.xlabel('Year')\n",
    "plt.ylabel('Co2 in million tons')\n",
    "plt.legend()\n",
    "\n",
    "plt.show()"
   ],
   "metadata": {
    "collapsed": false
   }
  },
  {
   "cell_type": "code",
   "execution_count": null,
   "outputs": [],
   "source": [
    "\n",
    "forest_area = 11.4 #million hectares https://www.deutschland.de/en/topic/environment/how-large-are-germanys-forests-facts-and-figures#:~:text=How%20much%20forest%20is%20there,with%20over%2090%20billion%20trees.\n",
    "per_hectare_carbon_absorbed = 12 #tonnes per year https://www.researchgate.net/publication/329074041_Global_carbon_dioxide_removal_rates_from_forest_landscape_restoration_activities\n",
    "rate_afforestration = 0.31  # https://rainforests.mongabay.com/deforestation/forest-information-archive/Germany.htm#:~:text=31.7%25%20%E2%80%94or%20about%2011%2C076%2C000%20hectares,annual%20reforestation%20rate%20of%200.31%25.\n",
    "forest_area_2050 = []\n",
    "\n",
    "# from year 1990 - 2023\n",
    "for i in range(2051, 1990, -1):\n",
    "    forest_area -= forest_area * (0.0031)\n",
    "    forest_area_2050.append(forest_area)\n",
    "\n",
    "\n",
    "total_carbon_absorbed = [x * per_hectare_carbon_absorbed for x in forest_area_2050]\n",
    "\n",
    "total_carbon_absorbed = total_carbon_absorbed[::-1]\n",
    "\n",
    "plt.figure(figsize=(10, 6))\n",
    "# Plotting the lines\n",
    "plt.ylim(0, 2000)\n",
    "plt.plot(df_total_final['Year'], total_carbon_absorbed, label='absorbed Carbon through Forest')\n",
    "plt.plot(df_total_final['Year'], df_total_final['GHG total'],label='GHG Total')\n",
    "\n",
    "# Adding labels and legend\n",
    "plt.xlabel('Year')\n",
    "plt.ylabel('Co2 in million tons')\n",
    "plt.legend()\n",
    "\n",
    "plt.show()"
   ],
   "metadata": {
    "collapsed": false
   }
  },
  {
   "cell_type": "code",
   "execution_count": null,
   "outputs": [],
   "source": [
    "#percentage source\n",
    "co2_free_energy_source =50 #percentage\n",
    "co2_emitter_energy_source = 50\n",
    "\n",
    "#carbon offesetting\n",
    "direct_air_capture =\n",
    "carbon_capture_storage = 90 #percent capability"
   ],
   "metadata": {
    "collapsed": false
   }
  },
  {
   "cell_type": "code",
   "execution_count": null,
   "outputs": [],
   "source": [
    "import pandas as pd\n",
    "world_temperature = pd.read_csv('/Users/mayank/Documents/world_Temp.txt', skiprows=[0,1],sep='\\s+' )"
   ],
   "metadata": {
    "collapsed": false
   }
  },
  {
   "cell_type": "code",
   "execution_count": null,
   "outputs": [],
   "source": [
    "world_temperature = world_temperature[1:]\n",
    "world_temperature"
   ],
   "metadata": {
    "collapsed": false
   }
  },
  {
   "cell_type": "code",
   "execution_count": null,
   "outputs": [],
   "source": [
    "import matplotlib.pyplot as plt\n",
    "\n",
    "plt.figure(figsize=(15, 6))\n",
    "# Plotting the lines\n",
    "plt.plot(world_temperature['Year'], world_temperature['No_Smoothing'], label='No_Smoothing')\n",
    "plt.plot(world_temperature['Year'], world_temperature['Lowess(5)'], label='Lowess(5)')\n",
    "\n",
    "# Adding labels and legend\n",
    "plt.xlabel('Year')\n",
    "plt.ylabel('Temperature Anamoly')\n",
    "plt.legend()\n",
    "plt.xticks(world_temperature.index[::8])\n",
    "\n",
    "plt.show()"
   ],
   "metadata": {
    "collapsed": false
   }
  },
  {
   "cell_type": "code",
   "execution_count": 49,
   "outputs": [
    {
     "name": "stdout",
     "output_type": "stream",
     "text": [
      "5.315555555555556\n",
      "2023 262.3855555555555 144.31205555555556\n",
      "2024 267.70111111111106 141.88158888888887\n",
      "2025 273.0166666666666 139.23849999999996\n",
      "2026 278.33222222222213 136.38278888888885\n",
      "2027 283.64777777777766 133.3144555555555\n",
      "2028 288.9633333333332 130.03349999999995\n",
      "2029 294.27888888888873 126.53992222222215\n",
      "2030 299.59444444444426 122.83372222222214\n",
      "2031 304.9099999999998 118.91489999999993\n",
      "2032 310.22555555555533 114.78345555555548\n",
      "2033 315.54111111111087 110.4393888888888\n",
      "2034 320.8566666666664 105.88269999999991\n",
      "2035 326.17222222222193 101.11338888888879\n",
      "2036 331.48777777777747 96.13145555555546\n",
      "2037 336.803333333333 90.93689999999992\n",
      "2038 342.11888888888853 85.52972222222213\n",
      "2039 347.43444444444407 79.90992222222214\n",
      "2040 352.7499999999996 74.07749999999992\n",
      "2041 358.06555555555514 68.03245555555547\n",
      "2042 363.38111111111067 61.77478888888882\n",
      "2043 368.6966666666662 55.304499999999926\n",
      "2044 374.01222222222174 48.62158888888883\n",
      "2045 379.32777777777727 41.7260555555555\n",
      "2046 384.6433333333328 34.61789999999995\n",
      "2047 389.95888888888834 27.297122222222185\n",
      "2048 395.2744444444439 19.763722222222196\n",
      "2049 400.5899999999994 12.017699999999982\n"
     ]
    }
   ],
   "source": [
    "#total energy\n",
    "#total carbon emission\n",
    "#total carbon emission from renewable source of energy\n",
    "#current carbon emission from non-renewable source of energy\n",
    "#rate of increase of renewable source of energy\n",
    "#rate of increase of offset technologies Carbon Capture and Storage (CCS) and\n",
    "# current carbon emission\n",
    "    # rate of renewable source increase\n",
    "    #rate of\n",
    "\n",
    "total_energy_produced_2023 = 257.07\n",
    "total_energy_produced_2014 = 209.23\n",
    "\n",
    "rate_of_energy_requirement = ((total_energy_produced_2023 - total_energy_produced_2014)/9) #every year\n",
    "print(rate_of_energy_requirement)\n",
    "total_co2_emission_energy = 570 #\n",
    "\n",
    "additional_energy_requirement = 0.053 # in percentage\n",
    "rate_of_change_renewable = 1\n",
    "rate_of_change_offset_technology = 1\n",
    "source_non_renewable_percentage = 55\n",
    "source_renwable_percentage = 100 - source_non_renewable_percentage\n",
    "#rate_required_energy_percentage =\n",
    "total_energy_from_non_renewable_source = (source_non_renewable_percentage/100) * total_energy_produced_2023\n",
    "total_energy_produced = total_energy_produced_2023\n",
    "per_gw_co2_emission = total_energy_from_non_renewable_source/total_co2_emission_energy #0.25\n",
    "total_co2_emission = total_co2_emission_energy\n",
    "\n",
    "non_renewable_energy_after_change = 0\n",
    "rate = 1\n",
    "offset_rate =1\n",
    "for i in range(2023, 2050):\n",
    "\n",
    "    total_energy_produced +=  rate_of_energy_requirement\n",
    "    non_renewable_energy = (source_non_renewable_percentage/100) * total_energy_produced\n",
    "    source_non_renewable_percentage = source_non_renewable_percentage - rate - offset_rate\n",
    "    print(i, total_energy_produced, non_renewable_energy)\n"
   ],
   "metadata": {
    "collapsed": false,
    "ExecuteTime": {
     "end_time": "2023-07-27T12:34:19.763645Z",
     "start_time": "2023-07-27T12:34:19.711989Z"
    }
   }
  },
  {
   "cell_type": "code",
   "execution_count": 1,
   "outputs": [
    {
     "data": {
      "text/plain": "           a         b         c\n0  -0.302257  0.065737 -0.337049\n1   0.486482  1.185720 -0.104117\n2   1.685289 -0.027637  0.877203\n3   0.863602  0.211271  0.136955\n4  -0.774938  0.823554 -1.675416\n5   0.093363 -0.743527  1.473710\n6  -1.225161 -1.250903  0.413475\n7   0.633441  1.405501 -0.018681\n8  -0.284357  0.682048 -2.740240\n9  -0.993898  0.343361 -0.673141\n10 -0.146830  2.416876 -0.840296\n11  0.841977  1.886092  0.339332\n12  0.378647 -0.676477  1.308613\n13  1.449066  0.808974 -1.322121\n14  0.981703 -0.109444  0.667334\n15 -1.741685 -0.844030  1.287973\n16 -1.091792  0.907441  0.614337\n17 -1.342758 -0.764869  1.331238\n18  0.642800 -0.431028 -0.664424\n19 -1.502234 -1.520906 -0.872553",
      "text/html": "<div>\n<style scoped>\n    .dataframe tbody tr th:only-of-type {\n        vertical-align: middle;\n    }\n\n    .dataframe tbody tr th {\n        vertical-align: top;\n    }\n\n    .dataframe thead th {\n        text-align: right;\n    }\n</style>\n<table border=\"1\" class=\"dataframe\">\n  <thead>\n    <tr style=\"text-align: right;\">\n      <th></th>\n      <th>a</th>\n      <th>b</th>\n      <th>c</th>\n    </tr>\n  </thead>\n  <tbody>\n    <tr>\n      <th>0</th>\n      <td>-0.302257</td>\n      <td>0.065737</td>\n      <td>-0.337049</td>\n    </tr>\n    <tr>\n      <th>1</th>\n      <td>0.486482</td>\n      <td>1.185720</td>\n      <td>-0.104117</td>\n    </tr>\n    <tr>\n      <th>2</th>\n      <td>1.685289</td>\n      <td>-0.027637</td>\n      <td>0.877203</td>\n    </tr>\n    <tr>\n      <th>3</th>\n      <td>0.863602</td>\n      <td>0.211271</td>\n      <td>0.136955</td>\n    </tr>\n    <tr>\n      <th>4</th>\n      <td>-0.774938</td>\n      <td>0.823554</td>\n      <td>-1.675416</td>\n    </tr>\n    <tr>\n      <th>5</th>\n      <td>0.093363</td>\n      <td>-0.743527</td>\n      <td>1.473710</td>\n    </tr>\n    <tr>\n      <th>6</th>\n      <td>-1.225161</td>\n      <td>-1.250903</td>\n      <td>0.413475</td>\n    </tr>\n    <tr>\n      <th>7</th>\n      <td>0.633441</td>\n      <td>1.405501</td>\n      <td>-0.018681</td>\n    </tr>\n    <tr>\n      <th>8</th>\n      <td>-0.284357</td>\n      <td>0.682048</td>\n      <td>-2.740240</td>\n    </tr>\n    <tr>\n      <th>9</th>\n      <td>-0.993898</td>\n      <td>0.343361</td>\n      <td>-0.673141</td>\n    </tr>\n    <tr>\n      <th>10</th>\n      <td>-0.146830</td>\n      <td>2.416876</td>\n      <td>-0.840296</td>\n    </tr>\n    <tr>\n      <th>11</th>\n      <td>0.841977</td>\n      <td>1.886092</td>\n      <td>0.339332</td>\n    </tr>\n    <tr>\n      <th>12</th>\n      <td>0.378647</td>\n      <td>-0.676477</td>\n      <td>1.308613</td>\n    </tr>\n    <tr>\n      <th>13</th>\n      <td>1.449066</td>\n      <td>0.808974</td>\n      <td>-1.322121</td>\n    </tr>\n    <tr>\n      <th>14</th>\n      <td>0.981703</td>\n      <td>-0.109444</td>\n      <td>0.667334</td>\n    </tr>\n    <tr>\n      <th>15</th>\n      <td>-1.741685</td>\n      <td>-0.844030</td>\n      <td>1.287973</td>\n    </tr>\n    <tr>\n      <th>16</th>\n      <td>-1.091792</td>\n      <td>0.907441</td>\n      <td>0.614337</td>\n    </tr>\n    <tr>\n      <th>17</th>\n      <td>-1.342758</td>\n      <td>-0.764869</td>\n      <td>1.331238</td>\n    </tr>\n    <tr>\n      <th>18</th>\n      <td>0.642800</td>\n      <td>-0.431028</td>\n      <td>-0.664424</td>\n    </tr>\n    <tr>\n      <th>19</th>\n      <td>-1.502234</td>\n      <td>-1.520906</td>\n      <td>-0.872553</td>\n    </tr>\n  </tbody>\n</table>\n</div>"
     },
     "execution_count": 1,
     "metadata": {},
     "output_type": "execute_result"
    }
   ],
   "source": [],
   "metadata": {
    "collapsed": false,
    "ExecuteTime": {
     "end_time": "2023-08-04T20:10:12.945905Z",
     "start_time": "2023-08-04T20:10:10.706623Z"
    }
   }
  }
 ],
 "metadata": {
  "kernelspec": {
   "display_name": "Python 3",
   "language": "python",
   "name": "python3"
  },
  "language_info": {
   "codemirror_mode": {
    "name": "ipython",
    "version": 2
   },
   "file_extension": ".py",
   "mimetype": "text/x-python",
   "name": "python",
   "nbconvert_exporter": "python",
   "pygments_lexer": "ipython2",
   "version": "2.7.6"
  }
 },
 "nbformat": 4,
 "nbformat_minor": 0
}
